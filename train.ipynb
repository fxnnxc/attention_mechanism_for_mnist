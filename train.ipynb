{
 "cells": [
  {
   "cell_type": "markdown",
   "metadata": {},
   "source": [
    "# Training MNIST with Attention Mechanism : usefulness of the Context Vector"
   ]
  },
  {
   "cell_type": "code",
   "execution_count": null,
   "metadata": {},
   "outputs": [],
   "source": [
    "from src.data import TokenDataset\n",
    "from src.models import AttentionPool\n",
    "from torch.utils.data import DataLoader\n",
    "import torch \n",
    "from tqdm import tqdm \n",
    "\n",
    "DEVICE = \"cuda:0\"\n",
    "\n",
    "train_set = TokenDataset(train=True)\n",
    "train_loader = DataLoader(train_set, batch_size=128, shuffle=True)"
   ]
  },
  {
   "cell_type": "markdown",
   "metadata": {},
   "source": [
    "## 1. Training a model "
   ]
  },
  {
   "cell_type": "code",
   "execution_count": 2,
   "metadata": {},
   "outputs": [
    {
     "name": "stdout",
     "output_type": "stream",
     "text": [
      "[2707.5670619010925, 2014.0422642230988]\n",
      "[1075.7676532268524, 1042.4243228435516]\n",
      "[959.5477417707443, 990.9031058549881]\n",
      "[916.9880771636963, 941.0123790502548]\n",
      "[891.2349652051926, 886.4892749786377]\n"
     ]
    }
   ],
   "source": [
    "# =========== Training ============\n",
    "model_w = AttentionPool(use_fixed_query_vector=True).to(DEVICE)\n",
    "model_wo = AttentionPool(use_fixed_query_vector=False).to(DEVICE)\n",
    "optimizer_w = torch.optim.Adam(model_w.parameters(), lr=1e-4)\n",
    "optimizer_wo = torch.optim.Adam(model_wo.parameters(), lr=1e-4)\n",
    "\n",
    "epochs = 5\n",
    "model_w.train()\n",
    "model_wo.train()\n",
    "for epoch in range(epochs):\n",
    "    running_loss = [0,0]\n",
    "    for x,y, x_origin in train_loader:\n",
    "        for i, (model, optimizer) in enumerate(zip([model_w, model_wo], [optimizer_w, optimizer_wo])):\n",
    "            x,y = x.to(DEVICE), y.to(DEVICE)\n",
    "            y_hat = model(x)\n",
    "            loss = torch.nn.CrossEntropyLoss()(y_hat, y)\n",
    "\n",
    "            optimizer.zero_grad()\n",
    "            loss.backward()\n",
    "            optimizer.step()\n",
    "            running_loss[i] += loss.item()\n",
    "\n",
    "    print(running_loss)\n"
   ]
  },
  {
   "cell_type": "code",
   "execution_count": 7,
   "metadata": {},
   "outputs": [
    {
     "name": "stdout",
     "output_type": "stream",
     "text": [
      "tensor(4) tensor(9, device='cuda:0')\n",
      "tensor(4) tensor(4, device='cuda:0')\n"
     ]
    },
    {
     "data": {
      "image/png": "[encoded data removed]",
      "text/plain": [
       "<Figure size 432x288 with 2 Axes>"
      ]
     },
     "metadata": {
      "needs_background": "light"
     },
     "output_type": "display_data"
    }
   ],
   "source": [
    "import matplotlib.pyplot as plt \n",
    "\n",
    "index = 2\n",
    "data, y, data_origin = train_set[index]\n",
    "\n",
    "fig, axes = plt.subplots(1,2)\n",
    "axes[0].imshow(data.numpy())\n",
    "axes[1].imshow(data_origin.numpy())\n",
    "\n",
    "for model in [model_w, model_wo]:\n",
    "    model.eval()\n",
    "    y_hat = model(data.unsqueeze(0).to(DEVICE))\n",
    "    print(y, y_hat.argmax())"
   ]
  },
  {
   "cell_type": "markdown",
   "metadata": {},
   "source": [
    "## Implement the validation case"
   ]
  },
  {
   "cell_type": "code",
   "execution_count": 4,
   "metadata": {},
   "outputs": [],
   "source": [
    "valid_set = TokenDataset(train=False)\n",
    "valid_loader = DataLoader(valid_set)\n",
    "\n",
    "# TODO evalute the trained model "
   ]
  },
  {
   "cell_type": "code",
   "execution_count": null,
   "metadata": {},
   "outputs": [],
   "source": []
  }
 ],
 "metadata": {
  "kernelspec": {
   "display_name": "Python 3.8.12 ('deeping')",
   "language": "python",
   "name": "python3"
  },
  "language_info": {
   "codemirror_mode": {
    "name": "ipython",
    "version": 3
   },
   "file_extension": ".py",
   "mimetype": "text/x-python",
   "name": "python",
   "nbconvert_exporter": "python",
   "pygments_lexer": "ipython3",
   "version": "3.8.12"
  },
  "orig_nbformat": 4,
  "vscode": {
   "interpreter": {
    "hash": "cbc4c7136b33e244a0926e55a8aa1e57f1c839903e331a380cefab98f3f0f979"
   }
  }
 },
 "nbformat": 4,
 "nbformat_minor": 2
}
